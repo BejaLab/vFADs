{
 "cells": [
  {
   "cell_type": "code",
   "execution_count": null,
   "metadata": {},
   "outputs": [],
   "source": [
    "import pandas as pd\n",
    "import seaborn as sns\n",
    "import time\n",
    "%pylab inline"
   ]
  },
  {
   "cell_type": "code",
   "execution_count": null,
   "metadata": {},
   "outputs": [],
   "source": [
    "import scipy.stats as stats\n",
    "import statsmodels.formula.api as sm"
   ]
  },
  {
   "cell_type": "code",
   "execution_count": null,
   "metadata": {},
   "outputs": [],
   "source": [
    "for package in ['pandas', 'seaborn', 'scipy', 'statsmodels']:\n",
    "    print(sys.modules[package].__name__, sys.modules[package].__version__)"
   ]
  },
  {
   "cell_type": "markdown",
   "metadata": {},
   "source": [
    "---\n",
    "## Load samples metadata"
   ]
  },
  {
   "cell_type": "code",
   "execution_count": null,
   "metadata": {},
   "outputs": [],
   "source": [
    "# TARA metadata\n",
    "samples_metadata_file = \"../data/TARA_metadata.csv\"\n",
    "metadata_df = pd.read_csv(samples_metadata_file)"
   ]
  },
  {
   "cell_type": "code",
   "execution_count": null,
   "metadata": {},
   "outputs": [],
   "source": [
    "metadata_df_slim = metadata_df[[\"dataset\", \"Depth\", \"Protocol_Label\", \"Region\", \"Station\", \"fraction\"]].copy()"
   ]
  },
  {
   "cell_type": "markdown",
   "metadata": {},
   "source": [
    "---\n",
    "## Load genes metadata"
   ]
  },
  {
   "cell_type": "code",
   "execution_count": null,
   "metadata": {},
   "outputs": [],
   "source": [
    "gene_annotation = pd.read_csv('../data/gene_info.tsv', sep='\\t')"
   ]
  },
  {
   "cell_type": "code",
   "execution_count": null,
   "metadata": {},
   "outputs": [],
   "source": [
    "gene_annotation_slim = gene_annotation[['vsearch_hash', 'seq_type', 'tax', 'gene']]"
   ]
  },
  {
   "cell_type": "code",
   "execution_count": null,
   "metadata": {},
   "outputs": [],
   "source": [
    "# Keep viral and marine cyanobacteria sequences\n",
    "gene_annotation_slim = gene_annotation_slim[gene_annotation_slim['tax'].isin(['MIC', 'VIR'])]"
   ]
  },
  {
   "cell_type": "markdown",
   "metadata": {},
   "source": [
    "---\n",
    "## Load salmon results"
   ]
  },
  {
   "cell_type": "code",
   "execution_count": null,
   "metadata": {},
   "outputs": [],
   "source": [
    "df_rpkm = pd.read_csv('../data/salmon_tximport_edger_rpkm.tsv', sep='\\t')"
   ]
  },
  {
   "cell_type": "markdown",
   "metadata": {},
   "source": [
    "---"
   ]
  },
  {
   "cell_type": "code",
   "execution_count": null,
   "metadata": {},
   "outputs": [],
   "source": [
    "def df_massage(df, gene_meta_df=gene_annotation_slim, samples_meta=metadata_df_slim):\n",
    "    tpm = df.reset_index().rename(columns={'index':'vsearch_hash'})\n",
    "    \n",
    "    # df -> tidy\n",
    "    raw_df = tpm.melt(id_vars='vsearch_hash', var_name='dataset', value_name='rpkm')\n",
    "    \n",
    "    # merge gene metadata\n",
    "    tpm = tpm.merge(gene_meta_df, on='vsearch_hash', how='left')\n",
    "    raw_df = raw_df.merge(gene_meta_df, on='vsearch_hash', how='left')\n",
    "\n",
    "    raw_df = raw_df.merge(samples_meta[['dataset', 'Region', 'fraction', 'Station', 'Depth']], on='dataset', how='left')\n",
    "         \n",
    "    tpm_T_df = tpm.groupby(['seq_type']).agg(sum)\n",
    "    tpm_T_df = tpm_T_df.T\n",
    "    \n",
    "    genes_fams = list()\n",
    "    \n",
    "    for i in tpm_T_df.sum().index: # display total number of mapped reads per \"sequence type\", except for petB\n",
    "        if 'petB' not in i:\n",
    "            genes_fams.append(i)\n",
    "        #    print(i, '\\t',tpm_T_df.sum().loc[i])\n",
    "        if i == 'desC_fam1':\n",
    "            vfad1_sum = tpm_T_df.sum().loc[i]\n",
    "        elif i == 'desC_fam2':\n",
    "            vfad2_sum = tpm_T_df.sum().loc[i]\n",
    "    \n",
    "    print(\"\\n\")\n",
    "    print(\"ratio vfad1/vfad2: {}\".format(vfad1_sum/vfad2_sum))\n",
    "    \n",
    "    summary_df = tpm_T_df[genes_fams].describe()\n",
    "\n",
    "    tpm_T_df['dataset'] = tpm_T_df.index\n",
    "    tpm_T_df = tpm_T_df.merge(samples_meta[['dataset', 'Region', 'fraction', 'Station', 'Depth']], on='dataset', how='left')\n",
    "    tpm_T_df.set_index('dataset', inplace=True)\n",
    "\n",
    "    return summary_df, raw_df, tpm_T_df"
   ]
  },
  {
   "cell_type": "code",
   "execution_count": null,
   "metadata": {},
   "outputs": [],
   "source": [
    "sumdf, raw_df,dfm = df_massage(df_rpkm)"
   ]
  },
  {
   "cell_type": "markdown",
   "metadata": {},
   "source": [
    "> #paper Fam1 represents the bulk of desC recruited reads, with up to 46 times the recruited fam2 reads."
   ]
  },
  {
   "cell_type": "markdown",
   "metadata": {},
   "source": [
    "---\n",
    "## DesC stats"
   ]
  },
  {
   "cell_type": "code",
   "execution_count": null,
   "metadata": {},
   "outputs": [],
   "source": [
    "# group by station/depth\n",
    "dfm_loc = dfm.groupby(['Station', 'Depth']).agg(sum).reset_index()"
   ]
  },
  {
   "cell_type": "code",
   "execution_count": null,
   "metadata": {},
   "outputs": [],
   "source": [
    "dfm_loc['myo'] = (dfm_loc['gp20_Myoviridae'] + dfm_loc['gp23_Myoviridae'])/2"
   ]
  },
  {
   "cell_type": "code",
   "execution_count": null,
   "metadata": {},
   "outputs": [],
   "source": [
    "for fam in ['desC_fam1', 'desC_fam2']:\n",
    "    dfm_loc[fam + '_ratio'] = dfm_loc[fam] / dfm_loc['myo']"
   ]
  },
  {
   "cell_type": "code",
   "execution_count": null,
   "metadata": {},
   "outputs": [],
   "source": [
    "dfm_loc.sort_values(by='desC_fam1_ratio', ascending=False)['desC_fam1_ratio'].head()"
   ]
  },
  {
   "cell_type": "code",
   "execution_count": null,
   "metadata": {},
   "outputs": [],
   "source": [
    "dfm_loc.loc[dfm_loc['desC_fam1'] > 0]['desC_fam1_ratio'].describe()"
   ]
  },
  {
   "cell_type": "code",
   "execution_count": null,
   "metadata": {},
   "outputs": [],
   "source": [
    "dfm_loc.loc[((dfm_loc['desC_fam1'] > 0) & (dfm_loc['desC_fam1_ratio'] < 1))]['desC_fam1_ratio'].describe()"
   ]
  },
  {
   "cell_type": "markdown",
   "metadata": {},
   "source": [
    "> #paper In the samples where desC_fam1 was present, was present in up to 305% of total cyanomyophages with an average 7% of cyanomyophages carrying the gene."
   ]
  },
  {
   "cell_type": "code",
   "execution_count": null,
   "metadata": {},
   "outputs": [],
   "source": [
    "dfm_loc.loc[dfm_loc['desC_fam2_ratio'] > 0][['desC_fam2_ratio']].describe()"
   ]
  },
  {
   "cell_type": "markdown",
   "metadata": {},
   "source": [
    "> #paper In the samples where desC_fam2 was present, was present in up to 3.5% of total cyanomyophages with an average 0.1% of cyanomyophages carrying the gene."
   ]
  },
  {
   "cell_type": "code",
   "execution_count": null,
   "metadata": {},
   "outputs": [],
   "source": [
    "fam2_v_fam1_df = dfm_loc.loc[(dfm_loc['desC_fam2_ratio'] > 0) & (dfm_loc['desC_fam1_ratio'] > 0)][['Station', 'Depth', 'desC_fam1', 'desC_fam2']].copy()"
   ]
  },
  {
   "cell_type": "code",
   "execution_count": null,
   "metadata": {},
   "outputs": [],
   "source": [
    "fam2_v_fam1_df['fam2/totalDesC'] = fam2_v_fam1_df['desC_fam2'] / (fam2_v_fam1_df['desC_fam1']+fam2_v_fam1_df['desC_fam2'])"
   ]
  },
  {
   "cell_type": "code",
   "execution_count": null,
   "metadata": {},
   "outputs": [],
   "source": [
    "fam2_v_fam1_df.describe()"
   ]
  },
  {
   "cell_type": "markdown",
   "metadata": {},
   "source": [
    "> #paper In samples where both desC families were detected, fam2 desaturases accounts in average for 16% of the total viral DesC and up to 43%."
   ]
  },
  {
   "cell_type": "markdown",
   "metadata": {},
   "source": [
    "---\n",
    "# plotting parameters"
   ]
  },
  {
   "cell_type": "code",
   "execution_count": null,
   "metadata": {},
   "outputs": [],
   "source": [
    "sns.set_style(\"whitegrid\")"
   ]
  },
  {
   "cell_type": "markdown",
   "metadata": {},
   "source": [
    "---\n",
    "## DesC geo origin"
   ]
  },
  {
   "cell_type": "code",
   "execution_count": null,
   "metadata": {},
   "outputs": [],
   "source": [
    "total_desC_fam1 = dfm['desC_fam1'].sum()\n",
    "total_desC_fam2 = dfm['desC_fam2'].sum()"
   ]
  },
  {
   "cell_type": "code",
   "execution_count": null,
   "metadata": {},
   "outputs": [],
   "source": [
    "desC_df = dfm[['desC_fam1', 'desC_fam2', 'Region']].copy()\n",
    "desC_df['fam1_ratio'] = (desC_df['desC_fam1']/total_desC_fam1) * 100\n",
    "desC_df['fam2_ratio'] = (desC_df['desC_fam2']/total_desC_fam2) * 100"
   ]
  },
  {
   "cell_type": "code",
   "execution_count": null,
   "metadata": {},
   "outputs": [],
   "source": [
    "desC_df = desC_df[['fam1_ratio', 'fam2_ratio', 'Region']].copy()\n",
    "\n",
    "desC_df = desC_df.melt(id_vars=['Region'], value_name='counts', var_name='fam')\n",
    "desC_df = desC_df.loc[desC_df['counts'] > 0]\n",
    "\n",
    "desC_df = desC_df.groupby(['fam','Region']).agg(sum).reset_index()\n"
   ]
  },
  {
   "cell_type": "code",
   "execution_count": null,
   "metadata": {},
   "outputs": [],
   "source": [
    "desC_df.sort_values(by=['fam','counts'], ascending=False)"
   ]
  },
  {
   "cell_type": "markdown",
   "metadata": {},
   "source": [
    "> #paper Fam1 recruited reads originated from all the sampled regions except for the SO, with ~82% of the total recruitments  coming from two regions the IO (47%) and SPO (35.7%). In contrast, for fam2 ~98% of the total recruitments came from SPO(66%) and SAO(32%) with the remaining coming from the IO."
   ]
  },
  {
   "cell_type": "markdown",
   "metadata": {},
   "source": [
    "#### empty boxplot with individual points on top"
   ]
  },
  {
   "cell_type": "code",
   "execution_count": null,
   "metadata": {},
   "outputs": [],
   "source": [
    "plot_df_ = dfm[['desC_fam1', 'desC_fam2', 'Region']].copy()\n",
    "\n",
    "plot_df_ = plot_df_.melt(id_vars=['Region'], value_name='counts', var_name='fam')\n",
    "plot_df_ = plot_df_.loc[plot_df_['counts'] > 0]\n",
    "\n",
    "# add missing regions for desC_fam2\n",
    "plot_df_ =plot_df_.append(pd.DataFrame([['RS', 'desC_fam2', 0],\\\n",
    "              ['MS', 'desC_fam2', 0], ['NAO', 'desC_fam2', 0],\\\n",
    "              ['NPO', 'desC_fam2', 0]], columns=plot_df_.columns), ignore_index=True)\n",
    "\n",
    "# column order\n",
    "\n",
    "column_order = plot_df_.loc[plot_df_['fam']=='desC_fam1'][['Region', 'counts']].groupby('Region')\\\n",
    ".agg(pd.np.median).sort_values(by='counts', ascending=False).index.tolist()\n",
    "\n",
    "\n",
    "# set plot parameters\n",
    "color_dict = {'desC_fam2':\"#7137c8\", 'desC_fam1':\"#aa8800\"}\n",
    "#fam1=\n",
    "sns.set_context(\"paper\", font_scale=2)\n",
    "sns.set_style('ticks')\n",
    "sns.despine()\n",
    "\n",
    "# fig initialization\n",
    "g = sns.FacetGrid(plot_df_, col=\"fam\", sharey=True, sharex=False, size=6,aspect=1)\n",
    "\n",
    "# add box plot\n",
    "(g.map(sns.boxplot, \"Region\", \"counts\", \"fam\", palette=color_dict, order=column_order))\n",
    "\n",
    "# remove boxplot fill and set colors based on \n",
    "# https://stackoverflow.com/questions/36874697/how-to-edit-properties-of-whiskers-fliers-caps-etc-in-seaborn-boxplot\n",
    "for subp in [0,1]:\n",
    "    for i, artist in enumerate(g.fig.get_axes()[subp].artists):\n",
    "        col = artist.get_facecolor()\n",
    "        if subp == 1:\n",
    "            col = 'white'\n",
    "        artist.set_edgecolor(col)\n",
    "        artist.set_facecolor('white')\n",
    "\n",
    "        for j in range(i*6,i*6+6):\n",
    "            line = g.fig.get_axes()[subp].lines[j]\n",
    "            line.set_color(col)\n",
    "            line.set_mfc(col)\n",
    "            line.set_mec(col)\n",
    "\n",
    "# Add in points to show each observation\n",
    "(g.map(sns.swarmplot, \"Region\", \"counts\", \"fam\", order=column_order, dodge=True, palette=color_dict, size=4))\n",
    "\n",
    "g.set_axis_labels(\"Region\", \"RPKM\").set_titles(\"{col_name}\")\n",
    "\n",
    "g.fig.get_axes()[0].set_yscale('log')\n",
    "\n",
    "g.savefig(\"./box_plot_v1_b.pdf\")\n",
    "plt.show()\n",
    "\n"
   ]
  },
  {
   "cell_type": "markdown",
   "metadata": {},
   "source": [
    "> #paper Box plot of viral desaturases family 1 and family 2 relative abundance grouped by oceanic provinces. Each box represents the different sampling stations combined.\n",
    "\n",
    "> Units: Reads per Kilobase per Million\n",
    "\n",
    "> The data for the 178 metagenomes with presence of viral desaturases is shown in a box plot with median, 25th percentile, 75th percentile, minimum and maximum values depicted."
   ]
  },
  {
   "cell_type": "markdown",
   "metadata": {},
   "source": [
    "### per fraction"
   ]
  },
  {
   "cell_type": "code",
   "execution_count": null,
   "metadata": {},
   "outputs": [],
   "source": [
    "desC_df = dfm[['desC_fam1', 'desC_fam2', 'Region', 'fraction']].copy()\n",
    "\n",
    "desC_df = desC_df.melt(id_vars=['fraction', 'Region'], value_name='counts', var_name='fam')\n",
    "desC_df = desC_df.loc[desC_df['fam'].isin(['desC_fam1', 'desC_fam2'])]\n",
    "desC_df = desC_df.loc[desC_df['counts'] > 1]\n",
    "\n",
    "fraction_df = desC_df.groupby(['fraction', 'fam']).agg(sum).reset_index().sort_values(by='fam')\n"
   ]
  },
  {
   "cell_type": "code",
   "execution_count": null,
   "metadata": {},
   "outputs": [],
   "source": [
    "total_fam1 = fraction_df.loc[fraction_df['fam'] == 'desC_fam1']['counts'].sum()\n",
    "total_fam2 = fraction_df.loc[fraction_df['fam'] == 'desC_fam2']['counts'].sum()"
   ]
  },
  {
   "cell_type": "code",
   "execution_count": null,
   "metadata": {},
   "outputs": [],
   "source": [
    "for fam in ['desC_fam1', 'desC_fam2']:\n",
    "    total = fraction_df.loc[fraction_df['fam'] == fam]['counts'].sum()\n",
    "    fraction_df.loc[fraction_df['fam'] == fam, '%'] = fraction_df['counts']/total*100"
   ]
  },
  {
   "cell_type": "code",
   "execution_count": null,
   "metadata": {},
   "outputs": [],
   "source": [
    "fraction_df"
   ]
  },
  {
   "cell_type": "markdown",
   "metadata": {},
   "source": [
    "> #paper 71.01% of the fam1 recruited reads originated from the bacterial fraction, 18.98% from the giant virus fraction and the remaining 10.01% from the viral fraction\n",
    "\n",
    "> #paper fam2 recruited reads came from: 79.09% giant virus fraction, 18.35% viral fraction and, 2.54% from the bacterial fraction"
   ]
  },
  {
   "cell_type": "code",
   "execution_count": null,
   "metadata": {},
   "outputs": [],
   "source": [
    "plot_df_ = dfm[['desC_fam1', 'desC_fam2', 'Region', 'fraction']].copy()\n",
    "\n",
    "plot_df_ = plot_df_.melt(id_vars=['fraction', 'Region'], value_name='counts', var_name='fam')\n",
    "plot_df_ = plot_df_.loc[plot_df_['fam'].isin(['desC_fam1', 'desC_fam2'])]\n",
    "plot_df_ = plot_df_.loc[plot_df_['counts'] > 1]\n",
    "\n",
    "color_dict = {'BACT':'black', 'VIRUS':'r', 'GIRUS':'b'}\n",
    "\n",
    "# column order\n",
    "\n",
    "column_order = plot_df_.loc[plot_df_['fam']=='desC_fam1'][['Region', 'counts']].groupby('Region')\\\n",
    ".agg(pd.np.median).sort_values(by='counts', ascending=False).index.tolist()\n",
    "\n",
    "# fig initialization\n",
    "sns.set_context(\"paper\", font_scale=2)\n",
    "\n",
    "g = sns.FacetGrid(plot_df_, row=\"fam\", sharey=True, sharex=False, size=6,aspect=3)\n",
    "\n",
    "# add box plot\n",
    "(g.map(sns.boxplot, \"Region\", \"counts\", \"fraction\", palette=color_dict, order=column_order))\n",
    "\n",
    "\n",
    "# remove boxplot fill and set colors based on \n",
    "# https://stackoverflow.com/questions/36874697/how-to-edit-properties-of-whiskers-fliers-caps-etc-in-seaborn-boxplot\n",
    "for subp in [0,1]:\n",
    "    for i, artist in enumerate(g.fig.get_axes()[subp].artists):\n",
    "        col = artist.get_facecolor()\n",
    "        if subp == 1:\n",
    "            col = 'white'\n",
    "        artist.set_edgecolor(col)\n",
    "        artist.set_facecolor('white')\n",
    "\n",
    "        for j in range(i*6,i*6+6):\n",
    "            line = g.fig.get_axes()[subp].lines[j]\n",
    "            line.set_color(col)\n",
    "            line.set_mfc(col)\n",
    "            line.set_mec(col)\n",
    "\n",
    "# Add in points to show each observation\n",
    "(g.map(sns.swarmplot, \"Region\", \"counts\", \"fraction\", order=column_order, dodge=True, palette=color_dict, size=6))\n",
    "\n",
    "# set log scale\n",
    "g.fig.get_axes()[0].set_yscale('log')\n",
    "g.fig.get_axes()[1].set_yscale('log')\n",
    "\n",
    "g.set_axis_labels(\"Region\", \"RPKM\").set_titles(\"{row_name} desC relative abundance\")\n",
    "\n",
    "g.add_legend()\n",
    "\n",
    "plt.show()\n",
    "\n",
    "g.savefig('./reads_distribution_per_fraction.pdf')"
   ]
  },
  {
   "cell_type": "markdown",
   "metadata": {},
   "source": [
    "---\n",
    "# correlations\n"
   ]
  },
  {
   "cell_type": "markdown",
   "metadata": {},
   "source": [
    "---\n",
    "\n",
    "## desC v petB per region"
   ]
  },
  {
   "cell_type": "code",
   "execution_count": null,
   "metadata": {},
   "outputs": [],
   "source": [
    "# creates a dictionary containing the correlation dataframes (pearson coeff and P value) per region\n",
    "dic_df = dict()\n",
    "fams = ['desC_fam1', 'desC_fam2']\n",
    "corr_list_ = list()\n",
    "for fam in fams:\n",
    "    dic_df[fam] = dict()\n",
    "    fam_df_ = dfm.loc[dfm[fam] > 0]\n",
    "    for gn, g in fam_df_.groupby('Region'):\n",
    "        dic_df[fam][gn] = dict()\n",
    "        \n",
    "        g2 = g[g.columns.tolist()[:-4]]\n",
    "\n",
    "        pearson_list_ = list()\n",
    "        header = ['fam', 'seq_type', 'r', 'r2', 'p', 'nz', 'n', 'region']\n",
    "\n",
    "        for seq_type in g2.columns:\n",
    "            if seq_type not in fams:\n",
    "                if 'petB' in seq_type:\n",
    "                    pearson = stats.pearsonr(g2[fam], g2[seq_type])\n",
    "\n",
    "                    nz_ = int(g2[seq_type].astype(bool).sum(axis=0))\n",
    "\n",
    "                    row = [fam, seq_type.replace('|', '_'), pearson[0], pearson[0]*pearson[0], pearson[1], nz_,len(g2), gn]\n",
    "\n",
    "                    pearson_list_.append(row)\n",
    "        \n",
    "        g2_corr_df = pd.DataFrame(pearson_list_, columns=header)\n",
    "        g2_corr_df = g2_corr_df.sort_values(by=['r2', 'nz'], ascending=[0,0])\n",
    "        \n",
    "        corr_list_.append(g2_corr_df)\n",
    "        \n",
    "        dic_df[fam][gn]['df'] = g2.rename(columns=lambda x: x.replace('|', '_'))\n",
    "        print('fam:{}, group: {}; # of samples: {}'.format(fam, gn, len(g2)))\n",
    "corr_df = pd.concat(corr_list_).sort_values(by='r2', ascending=False)\n",
    "corr_df = corr_df.dropna()"
   ]
  },
  {
   "cell_type": "code",
   "execution_count": null,
   "metadata": {},
   "outputs": [],
   "source": [
    "dic_df.keys()"
   ]
  },
  {
   "cell_type": "code",
   "execution_count": null,
   "metadata": {},
   "outputs": [],
   "source": [
    "dic_df['desC_fam1'].keys()"
   ]
  },
  {
   "cell_type": "code",
   "execution_count": null,
   "metadata": {},
   "outputs": [],
   "source": [
    "f = 'desC_fam1'\n",
    "reg = 'NAO'\n",
    "st = 'petB_Pro_LLI_LLIA'\n",
    "df_ = dic_df[f][reg]['df'][[f, st]]\n"
   ]
  },
  {
   "cell_type": "code",
   "execution_count": null,
   "metadata": {},
   "outputs": [],
   "source": [
    "df_.plot(st, f, kind='scatter')"
   ]
  },
  {
   "cell_type": "markdown",
   "metadata": {},
   "source": [
    "## Detect and remove outliers"
   ]
  },
  {
   "cell_type": "code",
   "execution_count": null,
   "metadata": {},
   "outputs": [],
   "source": [
    "def adjust(DF,x_,y_,plot_filename, axis_labels):\n",
    "    print(\"x:{}\".format(x_))\n",
    "    print(\"y:{}\".format(y_))\n",
    "\n",
    "    formula_ = x_ + ' ~ ' + y_\n",
    "    df__ = DF.reset_index()\n",
    "\n",
    "    model_ = sm.ols(formula=formula_, data=df_)\n",
    "    res_ = model_.fit()\n",
    "\n",
    "    print(\"r2={}, r2_adj={}\".format(res_.rsquared, res_.rsquared_adj))\n",
    "    print(\"p={}\".format(res_.f_pvalue))\n",
    "    \n",
    "    # outliers identification\n",
    "    influence = res_.get_influence()\n",
    "    (c, p) = influence.cooks_distance\n",
    "    df__['C'] = c\n",
    "\n",
    "    # show datasets to remove\n",
    "\n",
    "    outliers_num = len(df__[df__['C'] > 1])\n",
    "    outliers_id = df__[df__['C'] > 1]['dataset'].values.tolist()\n",
    "\n",
    "    print(\"Identified {0} outiers: {1}\".format(outliers_num, ','.join(outliers_id)))\n",
    "\n",
    "    reduced_df_ = df__[df__['C'] < 1].copy()\n",
    "\n",
    "    # fit again\n",
    "\n",
    "    formula_ = x_ + ' ~ ' + y_\n",
    "    model_ = sm.ols(formula=formula_, data=reduced_df_)\n",
    "    res_ = model_.fit()\n",
    "    print(\"After removal of outlier\\n r2={}, r2_adj={}\".format(res_.rsquared, res_.rsquared_adj))\n",
    "    print(\"p={}\".format(res_.f_pvalue))\n",
    "    slope = float(res_.params.loc[y_])\n",
    "    intercept = float(res_.params.loc[\"Intercept\"])\n",
    "    m_ = 1/slope\n",
    "    c_ = -1 * intercept/slope\n",
    "    if c_ < 0 :\n",
    "        c_ = c_ * -1\n",
    "        equation = r\"$y=${}$x-${}\".format(round(m_,4), round(c_,4))\n",
    "    else:\n",
    "        equation = r\"$y=${}$x+${}\".format(round(m_,4), round(c_,4))\n",
    "    print(\"Equation\\n{}\".format(equation))\n",
    "\n",
    "    # plot with reduced\n",
    "    color_dict = {'desC_fam2':\"#7137c8\", 'desC_fam1':\"#aa8800\"}\n",
    "    \n",
    "    g = sns.lmplot(x_, y_, data=reduced_df_, ci=None, aspect=1.6,\\\n",
    "           scatter_kws={\"color\": color_dict[y_]},\\\n",
    "           line_kws={'color': 'black', 'alpha':0.5})\n",
    "    \n",
    "    g.set_axis_labels(axis_labels[0], axis_labels[1])\n",
    "    plt.annotate(equation, xy=(30000,5000), xytext=(30000, 5000))\n",
    "    plt.annotate(r'$R^2$ = {}'.format(round(res_.rsquared_adj, 4)), xy=(30000,2000), xytext=(30000, 2000))\n",
    "    g.savefig(plot_filename)\n",
    "    return reduced_df_\n"
   ]
  },
  {
   "cell_type": "code",
   "execution_count": null,
   "metadata": {},
   "outputs": [],
   "source": [
    "df_"
   ]
  },
  {
   "cell_type": "code",
   "execution_count": null,
   "metadata": {},
   "outputs": [],
   "source": [
    "st"
   ]
  },
  {
   "cell_type": "code",
   "execution_count": null,
   "metadata": {},
   "outputs": [],
   "source": [
    "f"
   ]
  },
  {
   "cell_type": "code",
   "execution_count": null,
   "metadata": {},
   "outputs": [],
   "source": [
    "red_df = adjust(df_, st, f, './fam1-ProLLIA_correlation.pdf', (r\"$\\mathit{petB}$ Pro LLIA\", r\"$\\mathit{desC}$ vFAD-I\"))"
   ]
  },
  {
   "cell_type": "markdown",
   "metadata": {},
   "source": [
    "> #paper Abundances of viral desC family 1 and Prochlorococcus LLI-A were significantly correlated (P < 0.001; R2=0.91; the regression line, regression equation and R 2 value are shown)\n",
    "> #paper the sample ERR599095 was determined to be an outlier based on Cooks distance > 1 and removed from the plot."
   ]
  },
  {
   "cell_type": "markdown",
   "metadata": {},
   "source": [
    "---\n",
    "# TSV file generation for map"
   ]
  },
  {
   "cell_type": "code",
   "execution_count": null,
   "metadata": {},
   "outputs": [],
   "source": [
    "map_metadata_columns = ['Station','Longitude_Start', 'Latitude_Start']"
   ]
  },
  {
   "cell_type": "code",
   "execution_count": null,
   "metadata": {},
   "outputs": [],
   "source": [
    "map_df = dfm[['desC_fam1', 'desC_fam2', 'Station', 'Region']]"
   ]
  },
  {
   "cell_type": "code",
   "execution_count": null,
   "metadata": {},
   "outputs": [],
   "source": [
    "map_df = map_df.groupby(['Station', 'Region']).agg(sum).reset_index()"
   ]
  },
  {
   "cell_type": "code",
   "execution_count": null,
   "metadata": {},
   "outputs": [],
   "source": [
    "map_df = map_df.melt(value_vars=['desC_fam1', 'desC_fam2'], id_vars=['Station', 'Region'],\\\n",
    "                     var_name='family', value_name='rpkm')"
   ]
  },
  {
   "cell_type": "code",
   "execution_count": null,
   "metadata": {},
   "outputs": [],
   "source": [
    "map_df = map_df.merge(metadata_df[map_metadata_columns], on='Station', how='left')"
   ]
  },
  {
   "cell_type": "code",
   "execution_count": null,
   "metadata": {},
   "outputs": [],
   "source": [
    "map_df = map_df.rename(columns=lambda x: x.replace('_Start',''))"
   ]
  },
  {
   "cell_type": "code",
   "execution_count": null,
   "metadata": {},
   "outputs": [],
   "source": [
    "map_df = map_df.drop_duplicates(['Station', 'Region', 'family', 'rpkm'])"
   ]
  },
  {
   "cell_type": "code",
   "execution_count": null,
   "metadata": {},
   "outputs": [],
   "source": [
    "map_df.to_csv('../data/map_df.tsv', sep='\\t', index=False)"
   ]
  }
 ],
 "metadata": {
  "language_info": {
   "name": "python",
   "pygments_lexer": "ipython3"
  }
 },
 "nbformat": 4,
 "nbformat_minor": 2
}
